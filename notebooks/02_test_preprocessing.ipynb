{
 "cells": [
  {
   "cell_type": "code",
   "execution_count": 1,
   "id": "1abceb54-f997-4c39-b473-86eb81e802a3",
   "metadata": {},
   "outputs": [
    {
     "name": "stdout",
     "output_type": "stream",
     "text": [
      "✓ Preprocessor loaded successfully\n",
      "X_train shape: (34188, 88)\n",
      "X_val shape: (7327, 88)\n",
      "X_test shape: (7327, 88)\n",
      "\n",
      "y_train distribution: [26007  8181]\n",
      "Total features after preprocessing: 88\n",
      "\n",
      "First 20 features:\n",
      "['num__age', 'num__hours-per-week', 'num__capital-gain', 'num__capital-loss', 'num__education-num', 'cat__workclass_Federal-gov', 'cat__workclass_Local-gov', 'cat__workclass_Never-worked', 'cat__workclass_Private', 'cat__workclass_Self-emp-inc', 'cat__workclass_Self-emp-not-inc', 'cat__workclass_State-gov', 'cat__workclass_Without-pay', 'cat__marital-status_Divorced', 'cat__marital-status_Married-AF-spouse', 'cat__marital-status_Married-civ-spouse', 'cat__marital-status_Married-spouse-absent', 'cat__marital-status_Never-married', 'cat__marital-status_Separated', 'cat__marital-status_Widowed']\n",
      "NaN in X_train: 0\n",
      "Inf in X_train: 0\n",
      "✓ Data is clean and ready for modeling\n"
     ]
    }
   ],
   "source": [
    "# Cell 1: Load preprocessor and data\n",
    "import joblib\n",
    "import numpy as np\n",
    "import pandas as pd\n",
    "\n",
    "preprocessor = joblib.load('../models/preprocessor.joblib')\n",
    "print(\"✓ Preprocessor loaded successfully\")\n",
    "\n",
    "# Cell 2: Load processed data\n",
    "X_train = np.load('../data/processed/X_train.npy')\n",
    "X_val = np.load('../data/processed/X_val.npy')\n",
    "X_test = np.load('../data/processed/X_test.npy')\n",
    "y_train = np.load('../data/processed/y_train.npy')\n",
    "y_val = np.load('../data/processed/y_val.npy')\n",
    "y_test = np.load('../data/processed/y_test.npy')\n",
    "\n",
    "print(f\"X_train shape: {X_train.shape}\")\n",
    "print(f\"X_val shape: {X_val.shape}\")\n",
    "print(f\"X_test shape: {X_test.shape}\")\n",
    "print(f\"\\ny_train distribution: {np.bincount(y_train)}\")\n",
    "\n",
    "# Cell 3: Inspect feature names\n",
    "feature_names = preprocessor.get_feature_names_out()\n",
    "print(f\"Total features after preprocessing: {len(feature_names)}\")\n",
    "print(f\"\\nFirst 20 features:\\n{list(feature_names[:20])}\")\n",
    "\n",
    "# Cell 4: Check for NaN/Inf\n",
    "print(f\"NaN in X_train: {np.isnan(X_train).sum()}\")\n",
    "print(f\"Inf in X_train: {np.isinf(X_train).sum()}\")\n",
    "print(\"✓ Data is clean and ready for modeling\")\n"
   ]
  },
  {
   "cell_type": "code",
   "execution_count": null,
   "id": "dd731a25-6a15-46fe-a046-5dd7ecd7eff9",
   "metadata": {},
   "outputs": [],
   "source": []
  }
 ],
 "metadata": {
  "kernelspec": {
   "display_name": "Python 3 (ipykernel)",
   "language": "python",
   "name": "python3"
  },
  "language_info": {
   "codemirror_mode": {
    "name": "ipython",
    "version": 3
   },
   "file_extension": ".py",
   "mimetype": "text/x-python",
   "name": "python",
   "nbconvert_exporter": "python",
   "pygments_lexer": "ipython3",
   "version": "3.14.0"
  }
 },
 "nbformat": 4,
 "nbformat_minor": 5
}
